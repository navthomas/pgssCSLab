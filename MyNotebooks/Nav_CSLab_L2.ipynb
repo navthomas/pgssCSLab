{
  "nbformat": 4,
  "nbformat_minor": 0,
  "metadata": {
    "colab": {
      "name": "Nav_CSLab_L2",
      "provenance": [],
      "collapsed_sections": []
    },
    "kernelspec": {
      "name": "python3",
      "display_name": "Python 3"
    }
  },
  "cells": [
    {
      "cell_type": "code",
      "metadata": {
        "id": "MB_PpCJJVOUh",
        "colab_type": "code",
        "colab": {}
      },
      "source": [
        "In this script, we:\n",
        "1. Connet Colab to our Google Drive\n",
        "2. Read a file from Github as a RAW file into a Pandas data frame\n",
        "3. Summarize that data\n",
        "4. Read a file from Google Drive into a separate Pandas data frame"
      ],
      "execution_count": null,
      "outputs": []
    },
    {
      "cell_type": "markdown",
      "metadata": {
        "id": "kn3BB9WXVtma",
        "colab_type": "text"
      },
      "source": [
        "# Connet Colab to Google Drive\n",
        "\n"
      ]
    },
    {
      "cell_type": "code",
      "metadata": {
        "id": "aQ_Bp7DPfUpe",
        "colab_type": "code",
        "colab": {
          "base_uri": "https://localhost:8080/",
          "height": 33
        },
        "outputId": "763c795d-3e0b-479e-c2ec-f9bda257935d"
      },
      "source": [
        "from google.colab import drive\n",
        "drive.mount('/content/drive')"
      ],
      "execution_count": null,
      "outputs": [
        {
          "output_type": "stream",
          "text": [
            "Drive already mounted at /content/drive; to attempt to forcibly remount, call drive.mount(\"/content/drive\", force_remount=True).\n"
          ],
          "name": "stdout"
        }
      ]
    },
    {
      "cell_type": "markdown",
      "metadata": {
        "id": "-UjibdKmV615",
        "colab_type": "text"
      },
      "source": [
        "# Read a file from Github as a RAW file into a Pandas data frame\n",
        "\n",
        "\n"
      ]
    },
    {
      "cell_type": "code",
      "metadata": {
        "id": "W_A7fdjdfRrx",
        "colab_type": "code",
        "colab": {}
      },
      "source": [
        "import pandas as pd\n",
        "ChicagoData = pd.read_csv('https://raw.githubusercontent.com/menonpg/covid19_Chicago/master/timeSeries_COVID19_Chicago.csv')"
      ],
      "execution_count": null,
      "outputs": []
    },
    {
      "cell_type": "code",
      "metadata": {
        "id": "52hCbagveVsX",
        "colab_type": "code",
        "colab": {
          "base_uri": "https://localhost:8080/",
          "height": 197
        },
        "outputId": "cd0e3aa6-7ad0-4fa8-f3b7-ae6d26b84220"
      },
      "source": [
        "ChicagoData.head()"
      ],
      "execution_count": null,
      "outputs": [
        {
          "output_type": "execute_result",
          "data": {
            "text/html": [
              "<div>\n",
              "<style scoped>\n",
              "    .dataframe tbody tr th:only-of-type {\n",
              "        vertical-align: middle;\n",
              "    }\n",
              "\n",
              "    .dataframe tbody tr th {\n",
              "        vertical-align: top;\n",
              "    }\n",
              "\n",
              "    .dataframe thead th {\n",
              "        text-align: right;\n",
              "    }\n",
              "</style>\n",
              "<table border=\"1\" class=\"dataframe\">\n",
              "  <thead>\n",
              "    <tr style=\"text-align: right;\">\n",
              "      <th></th>\n",
              "      <th>Cases</th>\n",
              "      <th>Deaths</th>\n",
              "      <th>Date</th>\n",
              "    </tr>\n",
              "  </thead>\n",
              "  <tbody>\n",
              "    <tr>\n",
              "      <th>0</th>\n",
              "      <td>598</td>\n",
              "      <td>4</td>\n",
              "      <td>2020-03-24</td>\n",
              "    </tr>\n",
              "    <tr>\n",
              "      <th>1</th>\n",
              "      <td>949</td>\n",
              "      <td>5</td>\n",
              "      <td>2020-03-25</td>\n",
              "    </tr>\n",
              "    <tr>\n",
              "      <th>2</th>\n",
              "      <td>1882</td>\n",
              "      <td>15</td>\n",
              "      <td>2020-03-28</td>\n",
              "    </tr>\n",
              "    <tr>\n",
              "      <th>3</th>\n",
              "      <td>1975</td>\n",
              "      <td>15</td>\n",
              "      <td>2020-03-29</td>\n",
              "    </tr>\n",
              "    <tr>\n",
              "      <th>4</th>\n",
              "      <td>2611</td>\n",
              "      <td>26</td>\n",
              "      <td>2020-03-31</td>\n",
              "    </tr>\n",
              "  </tbody>\n",
              "</table>\n",
              "</div>"
            ],
            "text/plain": [
              "   Cases  Deaths        Date\n",
              "0    598       4  2020-03-24\n",
              "1    949       5  2020-03-25\n",
              "2   1882      15  2020-03-28\n",
              "3   1975      15  2020-03-29\n",
              "4   2611      26  2020-03-31"
            ]
          },
          "metadata": {
            "tags": []
          },
          "execution_count": 9
        }
      ]
    },
    {
      "cell_type": "markdown",
      "metadata": {
        "id": "343-mqpsWUn_",
        "colab_type": "text"
      },
      "source": [
        "# Summarize that data\n"
      ]
    },
    {
      "cell_type": "code",
      "metadata": {
        "id": "b3JVIYgXfLWL",
        "colab_type": "code",
        "colab": {
          "base_uri": "https://localhost:8080/",
          "height": 217
        },
        "outputId": "2be42caa-0f95-46f2-b4bd-b846b3f57e9e"
      },
      "source": [
        "print(\"Min values by column \\n\" + str(ChicagoData.aggregate( 'min' )) + '\\n\\n')\n",
        "print(\"Max values by column \\n\" + str(ChicagoData.aggregate( 'max' )))"
      ],
      "execution_count": null,
      "outputs": [
        {
          "output_type": "stream",
          "text": [
            "Min values by column \n",
            "Cases            598\n",
            "Deaths             4\n",
            "Date      2020-03-24\n",
            "dtype: object\n",
            "\n",
            "\n",
            "Max values by column \n",
            "Cases          53654\n",
            "Deaths          2637\n",
            "Date      2020-07-06\n",
            "dtype: object\n"
          ],
          "name": "stdout"
        }
      ]
    },
    {
      "cell_type": "code",
      "metadata": {
        "id": "ClPoVLpPhioQ",
        "colab_type": "code",
        "colab": {}
      },
      "source": [
        "ChicagoData.to_csv(\"timeSeries_COVID19_Chicago.csv\", index=False)\n",
        "\n",
        "ChicagoData.to_csv(\"/content/drive/My Drive/DATA/timeSeries_COVID19_Chicago.csv\", index=False)"
      ],
      "execution_count": null,
      "outputs": []
    },
    {
      "cell_type": "markdown",
      "metadata": {
        "id": "M0f8MMB2WXyc",
        "colab_type": "text"
      },
      "source": [
        "# Read a file from Google Drive into a separate Pandas data frame"
      ]
    },
    {
      "cell_type": "code",
      "metadata": {
        "id": "L3S0XunmjnRp",
        "colab_type": "code",
        "colab": {
          "base_uri": "https://localhost:8080/",
          "height": 217
        },
        "outputId": "738256d5-0a1c-42b8-e606-294c372b5118"
      },
      "source": [
        "print(\"Min values by column \\n\" + str(ChicagoData.aggregate( 'min' )) + '\\n\\n')\n",
        "print(\"Max values by column \\n\" + str(ChicagoData.aggregate( 'max' )))"
      ],
      "execution_count": null,
      "outputs": [
        {
          "output_type": "stream",
          "text": [
            "Min values by column \n",
            "Cases            598\n",
            "Deaths             4\n",
            "Date      2020-03-24\n",
            "dtype: object\n",
            "\n",
            "\n",
            "Max values by column \n",
            "Cases          53654\n",
            "Deaths          2637\n",
            "Date      2020-07-06\n",
            "dtype: object\n"
          ],
          "name": "stdout"
        }
      ]
    }
  ]
}